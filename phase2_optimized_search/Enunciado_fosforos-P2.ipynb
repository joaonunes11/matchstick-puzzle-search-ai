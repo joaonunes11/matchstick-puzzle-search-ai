{
 "cells": [
  {
   "cell_type": "code",
   "execution_count": null,
   "metadata": {},
   "outputs": [],
   "source": []
  },
  {
   "cell_type": "markdown",
   "metadata": {},
   "source": [
    "# Sistemas Inteligentes 2020/2021\n",
    "\n",
    "## Mini-projeto 2: Puzzle dos quadrados de fósforos - heurísticas\n",
    "\n",
    "\n",
    "\n",
    "<img src=\"fosforos.gif\" alt=\"Drawing\" style=\"width: 100px;\"/>\n",
    "\n",
    "#### Entrega: 31 de Março às 23h59\n",
    "\n",
    "**Nota:** Todas as dúvidas relacionadas com este projeto devem ser dirigidas ao Prof. Nuno Garcia.\n",
    "\n",
    "**Importante:** Existem dois ficheiros novos no zip: search_v3.py e utils_v2.py . Estes ficheiros são versões mais eficientes que os distribuidos anteriormente, e devem ser os ficheiros de acompanhamento a usar na resolução deste projeto."
   ]
  },
  {
   "cell_type": "markdown",
   "metadata": {},
   "source": [
    "### Introdução\n",
    "\n",
    "Considere o problema do puzzle dos quadrados descrito no enunciado do Mini-projeto 1.\n",
    "\n",
    "<img src=\"puzzle_fosforos.png\" alt=\"Drawing\" style=\"width: 550px;\"/>"
   ]
  },
  {
   "cell_type": "markdown",
   "metadata": {},
   "source": [
    "### Formulação\n",
    "\n",
    "Considere que cada fósforo tem associado um ID. Por exemplo, a configuração inicial (Fig. 1) é composta por todos os fósforos: a primeira linha tem os fósforos ID 1, 2 e 3, a primeira coluna tem os fósforos ID 4, 5, 6, 7, a segunda linha tem os fósforos 8, 9 e 10, e assim consecutivamente.\n",
    "\n",
    "<img src=\"fosforo-id.png\" alt=\"Drawing\" style=\"width: 250px;\"/>\n",
    "\n",
    "\n"
   ]
  },
  {
   "cell_type": "markdown",
   "metadata": {},
   "source": [
    "A representação dos estados é definida pelo conjunto de IDs dos fósforos usados para construir os quadrados.\n",
    "\n",
    "Podem haver quadrados de 1, 2 e 3 fósforos de largura."
   ]
  },
  {
   "cell_type": "code",
   "execution_count": null,
   "metadata": {},
   "outputs": [],
   "source": [
    "# quadrados possiveis de lado 1, 2, 3\n",
    "quad_side_1 = [set([1,4,5,8]), set([2,5,6,9]), set([3,6,7,10]), \n",
    "     set([8,11,12,15]), set([9,12,13,16]), set([10,13,14,17]), \n",
    "     set([15,18,19,22]), set([16,19,20,23]), set([17,20,21,24])]\n",
    "\n",
    "quad_side_2 = [set([1,2,4,6,11,13,15,16]), \n",
    "     set([2,3,5,7,12,14,16,17]),\n",
    "     set([8,9,11,13,18,20,22,23]),\n",
    "     set([9,10,12,14,19,21,23,24])]\n",
    "\n",
    "quad_side_3 = set([1,2,3,4,7,11,14,18,21,22,23,24])"
   ]
  },
  {
   "cell_type": "markdown",
   "metadata": {},
   "source": [
    "### Implementação da classe\n",
    "\n",
    "A classe ProblemaFosforos diz respeito à Parte 2 do trabalho anterior."
   ]
  },
  {
   "cell_type": "code",
   "execution_count": null,
   "metadata": {},
   "outputs": [],
   "source": [
    "from copy import copy\n",
    "import random\n",
    "import timeit\n",
    "from search_v3.py import *\n",
    "\n",
    "class ProblemaFosforos(Problem):\n",
    "    quadrados = [quad_side_3]\n",
    "    quadrados.extend(quad_side_2)\n",
    "    quadrados.extend(quad_side_1)\n",
    "\n",
    "    #hor = [1,2,3,8,9,10,15,16,17,22,23,24]\n",
    "    #ver = [4,5,6,7,11,12,13,14,18,19,20,21]\n",
    "    def __init__(self, initial, goal=2):\n",
    "        self.initial = tuple(initial)\n",
    "        self.goal = goal\n",
    "\n",
    "    def actions(self, estado):\n",
    "        \"\"\" Cada acção representa a remoção de um fósforo. Existem 24 acções no total.\n",
    "         Por exemplo, a acção 1 corresponde a remover o fósforo 1.\n",
    "\n",
    "         Na situação em que não há nenhum quadrado formado, não adianta realizar mais ações -> []\n",
    "\n",
    "        Args:\n",
    "            estado ([type]): [description]\n",
    "\n",
    "        Returns:\n",
    "            [type]: [description]\n",
    "        \"\"\"\n",
    "\n",
    "        if len(self.quadrados_validos(estado)) == 0:\n",
    "            return []\n",
    "        return list(estado)\n",
    "\n",
    "    def result(self, estado, accao):\n",
    "        \"\"\"Remove o fósforo com id=acçao do estado e retorna um novo estado.\n",
    "\n",
    "        Args:\n",
    "            estado (set[int]): conjunto de IDs de fósforos\n",
    "            accao (int): ID do fósforo a remover\n",
    "\n",
    "        Returns:\n",
    "            tuple[int]: novo estado\n",
    "        \"\"\"\n",
    "        s = copy(list(estado))\n",
    "        s.remove(accao)\n",
    "        return tuple(s)\n",
    "\n",
    "    def goal_test(self, estado):\n",
    "        \"\"\"Testa se o estado é o estado final.\n",
    "        O objetivo é ter apenas self.goal quadrados válidos e nenhum fósforo solto.\n",
    "\n",
    "        Args:\n",
    "            estado (tuple[int]): estado a ser avaliado.\n",
    "\n",
    "        Returns:\n",
    "            bool: se é o estado final.\n",
    "        \"\"\"\n",
    "        qval = self.quadrados_validos(estado)\n",
    "        soltos = self.fosforos_soltos(estado)\n",
    "        return len(qval) == self.goal and soltos == 0\n",
    "\n",
    "    def quadrados_validos(self, estado):\n",
    "        \"\"\"Verifica quantos são quadrados válidos estão presentes no estado, usando a informação estática da classe.\n",
    "\n",
    "        Args:\n",
    "            estado (tuple[int]): estado a ser avaliado.\n",
    "\n",
    "        Returns:\n",
    "            list: lista com os IDs dos fósforos de quadrados válidos\n",
    "        \"\"\"\n",
    "        qval = []\n",
    "        for i in self.quadrados:\n",
    "            if i.intersection(set(estado)) == i:\n",
    "                qval.append(list(i))\n",
    "        return qval\n",
    "\n",
    "    def fosforos_soltos(self, estado):\n",
    "        \"\"\"Devolve o número de fósforos soltos do estado.\n",
    "\n",
    "        Args:\n",
    "            estado (tuple[int]): estado a ser avaliado.\n",
    "\n",
    "        Returns:\n",
    "            int: numero de fósforos soltos.\n",
    "        \"\"\"\n",
    "        qval = self.quadrados_validos(estado)\n",
    "        qval = set([item for sublist in qval for item in sublist])\n",
    "        return len(set(estado) - qval)\n",
    "\n",
    "    def display(self, estado):\n",
    "        \"\"\"Imprime uma visualização do estado\n",
    "\n",
    "        Args:\n",
    "            estado (tuple[int]): estado a ser avaliado.\n",
    "        \"\"\"\n",
    "        N = 3\n",
    "        for i in range(1, N + 2):\n",
    "            h = [2 * (i - 1) * N + i + j\n",
    "                 for j in range(0, N)]  # fosforos horizontais\n",
    "            v = [(2 * i - 1) * N + i + j\n",
    "                 for j in range(0, N + 1)]  # fosforos verticais\n",
    "            for k in h:\n",
    "                if k in estado:\n",
    "                    print('  -- ', end='')\n",
    "                else:\n",
    "                    print('     ', end='')\n",
    "            print()\n",
    "            for k in v:\n",
    "                if k in estado:\n",
    "                    print('|    ', end='')\n",
    "                else:\n",
    "                    print('     ', end='')\n",
    "            print()\n",
    "            \n",
    "    def h1(self, no):\n",
    "        \"\"\" heurística a ser usada pelos algoritmos de procura informada.\n",
    "        Args:\n",
    "            no (Node): objeto da classe Node, definida na search_v3.py\n",
    "        Returns:\n",
    "            number: valor_da_heuristica do nó \n",
    "        \"\"\"\n",
    "        pass  \n",
    "        # return valor_da_heuristica"
   ]
  },
  {
   "cell_type": "markdown",
   "metadata": {},
   "source": [
    "Instanciação do problema com o estado inicial da Figura 1."
   ]
  },
  {
   "cell_type": "code",
   "execution_count": null,
   "metadata": {},
   "outputs": [],
   "source": [
    "x = [i for i in range(1,25)]\n",
    "p1 = ProblemaFosforos(initial=x)"
   ]
  },
  {
   "cell_type": "markdown",
   "metadata": {},
   "source": [
    "Função auxiliar ```exec```"
   ]
  },
  {
   "cell_type": "code",
   "execution_count": null,
   "metadata": {},
   "outputs": [],
   "source": [
    "def exec(p, estado, accoes):\n",
    "    \"\"\" Executa uma sequência de acções a partir do estado\n",
    "        devolve um par (estado, custo)\n",
    "    \"\"\"\n",
    "    custo = 0\n",
    "    for a in accoes:\n",
    "        seg = p.result(estado, a)\n",
    "        custo = p.path_cost(custo, estado, a, seg)\n",
    "        estado = seg\n",
    "    p.display(estado)\n",
    "    print('Custo:', custo)\n",
    "    print('Goal?', p.goal_test(estado))\n",
    "    return (estado, custo)"
   ]
  },
  {
   "cell_type": "markdown",
   "metadata": {},
   "source": [
    "### Utilizar os métodos de procura\n",
    "\n",
    "Os métodos de procura estão implementados no ficheiro search_v3.py\n",
    "\n",
    "Por exemplo, a pesquisa em largura em grafo pode ser testada da seguinte forma.\n",
    "\n",
    "Repare que a procura em largura é igual à procura Greedy se a condição para escolher o próximo nó for a profundidade."
   ]
  },
  {
   "cell_type": "code",
   "execution_count": null,
   "metadata": {},
   "outputs": [],
   "source": [
    "x = [i for i in range(1, 25)]\n",
    "p1 = ProblemaFosforos(initial=x)\n",
    "start = timeit.default_timer()\n",
    "res = breadth_first_graph_search(p1)\n",
    "# res = astar_search(p1, p1.h1)\n",
    "stop = timeit.default_timer()\n",
    "timeGraph = stop - start\n",
    "print('Time: ', timeGraph)\n",
    "print(\"Solução:\", res.solution())\n",
    "exec(p1, p1.initial, res.solution())"
   ]
  },
  {
   "cell_type": "markdown",
   "metadata": {},
   "source": [
    "## Exercícios\n",
    "\n",
    "1. Considerando a formulação descrita anteriormente, qual é o tamanho do espaço de estados?\n",
    "2. Aplique o algoritmo de procura em largura-primeiro. A que profundidade se encontra a solução encontrada pela procura em largura-primeiro? É a solução óptima?\n",
    "3. Defina, explique, e implemente duas heurísticas. Elas devem ser substancialmente diferentes. Por exemplo, se uma heurística for H(node) = x, a outra não pode ser H(node)=2\\*x, ou H(node)=2\\+x. Cada heurística deve ser um método na classe ProblemaFosforos, à semelhança do ```h1```\n",
    "4. Comente e justifique se as heurísticas são ou não admissiveis.\n",
    "5. Implemente o algoritmo de aprofundamento progressivo A\\*. Este algoritmo utiliza a procura com A\\* com profundidade limitada, e repete a procura com profundidades crescentes até encontrar uma solução ou chegar ao limite máximo definido. É semelhante ao algoritmo de aprofundamento progressivo visto nas aulas, mas o algoritmo de procura usado é o  A\\*.\n",
    "    1. Deve fazer o método ```aprofundamento_prog_astar```.\n",
    "    2. Sugestão: pode utilizar este método para chamar outro, por exemplo uma variante do ```best_first_graph_search```.\n",
    "\n"
   ]
  },
  {
   "cell_type": "code",
   "execution_count": null,
   "metadata": {},
   "outputs": [],
   "source": [
    "def aprofundamento_prog_astar(problem, h=None, max_depth=50):\n",
    "    \"\"\"\n",
    "    problem: o problema\n",
    "    h: a heurística\n",
    "    max_depth: a profundidade máxima permitida\n",
    "    \"\"\"\n",
    "    pass"
   ]
  },
  {
   "cell_type": "markdown",
   "metadata": {},
   "source": [
    "6. Construa uma [tabela](https://docs.github.com/en/github/writing-on-github/organizing-information-with-tables) em que compare o tempo, nós expandidos, nós visitados, e custo da solução para os algoritmos:\n",
    "    1. Procura em largura-primeiro.\n",
    "    2. Procura de custo uniforme.\n",
    "    2. Greedy com as duas heurísticas propostas.\n",
    "    3. A\\* com as duas heurísticas propostas.\n",
    "    4. Aprofundamento progressivo com A\\* com as duas heurísticas propostas.\n",
    "    \n",
    "Sugestão: pode ser útil usar o parâmetro ```display``` das funções de procura.\n"
   ]
  },
  {
   "cell_type": "markdown",
   "metadata": {},
   "source": [
    "### Relatório \n",
    "\n",
    "O relatório é **obrigatório** e deverá ser apresentado em Jupyter Notebook **(*.ipynb)** e em **.html**, contendo as respostas aos exercícios e o código desenvolvido. \n",
    "\n",
    "Qualquer trabalho que não tenha relatório ou não o tenha no formato pedido não será avaliado (i.e., nota 0). É fornecido um ficheiro esqueleto, **SI-proj2-XX.ipynb** (onde XX é o número do grupo) para realização do relatório. Não se esqueça de preencher os nomes e números dos elementos do grupo.\n",
    "\n",
    "### Entrega\n",
    "\n",
    "Deverá entregar um **zip** chamado **SI-proj2-XX** (onde XX é o número do grupo) com os dois ficheiros pedidos (relatório em formato `.ipynb` e `.html`). \n",
    "\n",
    "*Nota: para gerar a versão html do relatório faça `File -> Download as`.*\n",
    "\n",
    "**Data limite:** 31 de Março às 23h59"
   ]
  }
 ],
 "metadata": {
  "kernelspec": {
   "display_name": "Python 3",
   "language": "python",
   "name": "python3"
  },
  "language_info": {
   "codemirror_mode": {
    "name": "ipython",
    "version": 3
   },
   "file_extension": ".py",
   "mimetype": "text/x-python",
   "name": "python",
   "nbconvert_exporter": "python",
   "pygments_lexer": "ipython3",
   "version": "3.8.3"
  }
 },
 "nbformat": 4,
 "nbformat_minor": 4
}