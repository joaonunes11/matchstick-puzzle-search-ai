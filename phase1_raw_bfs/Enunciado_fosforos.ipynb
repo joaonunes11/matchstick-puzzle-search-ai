{
 "cells": [
  {
   "cell_type": "markdown",
   "metadata": {},
   "source": [
    "# Sistemas Inteligentes 2020/2021\n",
    "\n",
    "## Mini-projeto 1: Puzzle dos quadrados de fósforos\n",
    "\n",
    "\n",
    "\n",
    "<img src=\"fosforos.gif\" alt=\"Drawing\" style=\"width: 100px;\"/>\n",
    "\n",
    "#### Entrega: 7 de Março às 23h59\n",
    "\n",
    "**Nota:** Todas as dúvidas relacionadas com este projeto devem ser dirigidas à Prof. Helena Aidos."
   ]
  },
  {
   "cell_type": "markdown",
   "metadata": {},
   "source": [
    "### Introdução\n",
    "\n",
    "Dada a configuração inicial, criada com 24 fósforos e ilustrada na figura 1, pretende-se remover fósforos de modo a obter dois quadrados (de dimensões que podem ser diferentes). Por exemplo, uma solução é ilustrada na figura 2. Considere que o mesmo fósforo pode pertencer a mais do que um quadrado mas que não pode haver fósforos que não pertençam a nenhum quadrado.\n",
    "\n",
    "<img src=\"puzzle_fosforos.png\" alt=\"Drawing\" style=\"width: 550px;\"/>"
   ]
  },
  {
   "cell_type": "markdown",
   "metadata": {},
   "source": [
    "### Parte 1\n",
    "\n",
    "Formule este problema como um problema de procura de acordo com o Paradigma de Espaço de Estados. Defina a representação dos estados, estado inicial, estado final, operadores de transição de estado e o teste do estado final. "
   ]
  },
  {
   "cell_type": "markdown",
   "metadata": {},
   "source": [
    "### Parte 2\n",
    "\n",
    "Implemente a formulação apresentada na Parte 1, usando a implementação disponibilizada pelo módulo `searchPlus.py`. Deverá apresentar a sua implementação bem como os testes que considerar necessários para demonstrar que a formulação está bem feita. Tenha em atenção que:\n",
    "\n",
    "1. A classe do Problema que criar deve obrigatoriamente denominar-se **Fosforos**. \n",
    "```python\n",
    "class Fosforos(Problem):\n",
    "        pass\n",
    "```\n",
    "2. Terá de implementar o método **display()** que permite visualizar o estado do problema. Eis um exemplo de visualização,\n",
    "<img src=\"fosforos_display.png\" alt=\"Drawing\" style=\"width: 100px;\"/>\n",
    "3. Se um estado `s` for input do método **result()** ele deve permanecer inalterado após uma chamada ao método. Assim, deve ser gerado um estado `s'` que é devolvido em vez de alterar o estado `s` de input.\n",
    "4. É importante que dois estados contendo exatamente os mesmos valores nos seus atributos sejam considerados iguais mesmo que sejam objetos distintos.\n",
    "5. Deverá testar a sua formulação aplicando uma sequência de acções a partir de um estado qualquer.\n",
    "\n",
    "***Teste dos programas***\n",
    "\n",
    "Mostre que o código está a funcionar\n",
    "* construindo instâncias da classe Fosforos, \n",
    "* fazendo o display dos estados, \n",
    "* verificando o teste do estado final, \n",
    "* gerando as acções para alguns estados, \n",
    "* executando acções a partir de alguns estados e gerando novos estados, \n",
    "* mostrando a evolução dos custos, \n",
    "* verificando que os estados não se modificam com as acções (são gerados novos estados) e que a igualdade e a comparação entre estados funciona. \n",
    "\n",
    "Mostre que a execução de sequências de acções funciona corretamente. Para isso, o método seguinte permite executar uma sequência de acções a partir de um estado qualquer, devolvendo o estado resultante e o custo acumulado num par `(estadoResultante,custoTotal)`. Este método funciona bem apenas quando a sequência de acções é válida.\n",
    "\n",
    "```python\n",
    "def exec(p,estado,accoes):\n",
    "    custo = 0\n",
    "    for a in accoes:\n",
    "        seg = p.result(estado,a)\n",
    "        custo = p.path_cost(custo,estado,a,seg)\n",
    "        estado = seg\n",
    "    p.display(estado)\n",
    "    print('Custo:',custo)\n",
    "    print('Goal?',p.goal_test(estado))\n",
    "    return (estado,custo)\n",
    "```\n",
    "\n",
    "Opcionalmente, poderá ainda confirmar que o problema está bem formulado utilizando um algoritmo de procura como por exemplo o **depth_first_tree_search()** (matéria que será abordada na semana de 28 de Fevereiro a 6 de Março)."
   ]
  },
  {
   "cell_type": "markdown",
   "metadata": {},
   "source": [
    "### Parte 3 (bónus)\n",
    "\n",
    "**Atenção:** Não tente resolver esta parte sem ter terminado as duas partes anteriores. A bonificação só será atribuída aos grupos que as concluírem com sucesso.\n",
    "\n",
    "Explique o que precisaria de alterar na formulação anterior para suportar o caso genérico de um puzzle de NxN quadrados de um fósforo de lado (note que o caso anterior corresponde a N=3). Tente implementar a sua formulação para o caso genérico."
   ]
  },
  {
   "cell_type": "markdown",
   "metadata": {},
   "source": [
    "### Relatório \n",
    "\n",
    "O relatório é **obrigatório** e deverá ser apresentado em Jupyter Notebook **(*.ipynb)** e em **.html**, contendo:\n",
    "\n",
    "1. Explicação sobre a formulação do problema (parte 1)\n",
    "2. Formulação em Python para os estados e acções, correr o código e apresentar os testes que fizeram (parte 2)\n",
    "\n",
    "Qualquer trabalho que não tenha relatório ou não o tenha no formato pedido não será avaliado (i.e., nota 0). É fornecido um ficheiro esqueleto, **SI-proj1-XX.ipynb** (onde XX é o número do grupo) para realização do relatório. Não se esqueça de preencher os nomes e números dos elementos do grupo.\n",
    "\n",
    "### Entrega\n",
    "\n",
    "Deverá entregar um **zip** chamado **SI-proj1-XX** (onde XX é o número do grupo) com os dois ficheiros pedidos (relatório em formato `.ipynb` e `.html`). Não altere nem o `utils.py` nem o `searchPlus.py` e não os submeta com o projeto. \n",
    "\n",
    "*Nota: para gerar a versão html do relatório faça `File -> Download as`.*\n",
    "\n",
    "**Data limite:** 7 de Março às 23h59"
   ]
  },
  {
   "cell_type": "code",
   "execution_count": null,
   "metadata": {},
   "outputs": [],
   "source": []
  }
 ],
 "metadata": {
  "kernelspec": {
   "display_name": "Python 3",
   "language": "python",
   "name": "python3"
  },
  "language_info": {
   "codemirror_mode": {
    "name": "ipython",
    "version": 3
   },
   "file_extension": ".py",
   "mimetype": "text/x-python",
   "name": "python",
   "nbconvert_exporter": "python",
   "pygments_lexer": "ipython3",
   "version": "3.7.3"
  }
 },
 "nbformat": 4,
 "nbformat_minor": 4
}
