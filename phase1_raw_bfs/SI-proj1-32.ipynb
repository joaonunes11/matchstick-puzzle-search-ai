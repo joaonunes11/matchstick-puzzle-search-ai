{
 "cells": [
  {
   "cell_type": "markdown",
   "metadata": {},
   "source": [
    "# Sistemas Inteligentes 2020/2021\n",
    "\n",
    "## Mini-projeto 1: Puzzle dos quadrados de fósforos\n",
    "\n",
    "## Relatório\n",
    "\n",
    "<img src=\"fosforos.gif\" alt=\"Drawing\" style=\"width: 100px;\"/>"
   ]
  },
  {
   "cell_type": "markdown",
   "metadata": {},
   "source": [
    "### Grupo: 32\n",
    "\n",
    "Número: 53354 - Nome: João Viana\n",
    "\n",
    "Número: 53745 - Nome: João Nunes\n",
    "\n",
    "Número: 53749 - Nome: Pedro Rodrigues"
   ]
  },
  {
   "cell_type": "markdown",
   "metadata": {},
   "source": [
    "## Parte 1\n",
    "\n",
    "Neste puzzle dos quadrados de fósforos, a solução é conseguida através da retirada de um fosfóro de cada vez. Este problema consiste em remover um fosfóro de cada vez, de forma a obter a formação de dois quadrados.\n",
    "\n",
    "Estado inicial: {\"h1\":[1,2,3],\"v1\":[1,2,3,4],\"h2\":[1,2,3],\"v2\":[1,2,3,4],\"h3\":[1,2,3],\"v3\":[1,2,3,4],\"h4\":[1,2,3]}.\n",
    "\n",
    "Estado final: O teste final é realizado com (...), tendo como objetivo a verificação da formação de dois quadrados e a ausêncisa de fósforos soltos.\n",
    "\n",
    "Operadores: Retirar um fósforo."
   ]
  },
  {
   "cell_type": "markdown",
   "metadata": {},
   "source": [
    "## Parte 2\n",
    "\n",
    "Formulação em Python."
   ]
  },
  {
   "cell_type": "code",
   "execution_count": 109,
   "metadata": {},
   "outputs": [],
   "source": [
    "from searchPlus import *\n",
    "import copy\n",
    "\n",
    "class EstadoFosforos:\n",
    "    \n",
    "    def __init__(self, fosforos = {\"h1\":[1,2,3],\"v1\":[1,2,3,4],\"h2\":[1,2,3],\"v2\":[1,2,3,4],\"h3\":[1,2,3],\"v3\":[1,2,3,4],\"h4\":[1,2,3]}):\n",
    "        self.fosforos = fosforos\n",
    "    \n",
    "    def __str__(self) :\n",
    "        return self.fosforos\n",
    "     \n",
    "\n",
    "class Fosforos(Problem):\n",
    "    def __init__(self, estado = {\"h1\":[1,2,3],\"v1\":[1,2,3,4],\"h2\":[1,2,3],\"v2\":[1,2,3,4],\"h3\":[1,2,3],\"v3\":[1,2,3,4],\"h4\":[1,2,3]}):\n",
    "        self.estado = estado\n",
    "        \n",
    "    def setEstado(self, estadoNovo):\n",
    "        self.estado = estadoNovo\n",
    "\n",
    "    def display(self, estado):\n",
    "        for chave in self.estado:\n",
    "            output = \"\"\n",
    "            for i in range(0, len(self.estado.get(chave))):\n",
    "                if chave[0] == \"h\":\n",
    "                    if self.estado.get(chave)[i]==i+1:\n",
    "                        output = output + \"  __ \"\n",
    "                    else:\n",
    "                        output = output + \"     \"\n",
    "                if chave[0] == \"v\":\n",
    "                    if self.estado.get(chave)[i]==i+1:\n",
    "                        output = output + \"|    \"\n",
    "                    else:\n",
    "                        output = output + \"     \" \n",
    "            print(output)\n",
    "      \n",
    "    def actions(self,estado):\n",
    "        listaActions = []\n",
    "        for chave in self.estado:\n",
    "            for i in range(0, len(self.estado.get(chave))):\n",
    "                if self.estado.get(chave)[i] != \"x\":\n",
    "                    listaActions.append(chave + str(self.estado.get(chave)[i]))\n",
    "        return listaActions\n",
    "\n",
    "    def result(self,estado,action):\n",
    "        estadoRetornado = copy.deepcopy(self.estado)\n",
    "        self.action = action\n",
    "        linha = action[0:2]\n",
    "        ordem = action[2]\n",
    "        estadoRetornado[linha][int(ordem)-1] = \"x\"\n",
    "        return estadoRetornado\n",
    "    \n",
    "    def path_cost(self, c, estado1, actions, estado2):\n",
    "        return c + 1\n",
    "       \n",
    "    def goal_test(self, estado):\n",
    "        self.estado = estado\n",
    "        possiblidades = [[\"h11\", \"h21\", \"v11\", \"v12\"],[\"h12\",\"h22\",\"v12\",\"v13\"],[\"h13\",\"h23\",\"v13\",\"v14\"],[\"h21\",\"h31\",\"v21\",\"v22\"],[\"h22\",\"h32\",\"v22\",\"v23\"],\n",
    "                        [\"h23\",\"h33\",\"v23\",\"v24\"],[\"h31\",\"h41\",\"v31\",\"v32\"],[\"h32\",\"h42\",\"v32\",\"v33\"],[\"h33\",\"h43\",\"v33\",\"v34\"],[\"h11\",\"h12\",\"h31\",\"h32\",\"v11\",\"v21\",\"v13\",\"v23\"],\n",
    "                        [\"h12\",\"h13\",\"h32\",\"h33\",\"v12\",\"v22\",\"v14\",\"v24\"],[\"h21\",\"h22\",\"h41\",\"h42\",\"v21\",\"v31\",\"v23\",\"v33\"],[\"h22\",\"h23\",\"h42\",\"h43\",\"v22\",\"v32\",\"v24\",\"v34\"],\n",
    "                        [\"h11\",\"h12\",\"h13\",\"h41\",\"h42\",\"h43\",\"v11\",\"v21\",\"v31\",\"v14\",\"v24\",\"v34\"]]\n",
    "        contador = 0\n",
    "        utilizados=[]\n",
    "        indice = -1\n",
    "        matches=0\n",
    "        listaFosforos = []\n",
    "        for chave in self.estado:\n",
    "            for i in range(0, len(self.estado.get(chave))):\n",
    "                if self.estado.get(chave)[i] != \"x\":\n",
    "                    listaFosforos.append(chave + str(self.estado.get(chave)[i]))\n",
    "        for a in possiblidades: \n",
    "            if matches == len(possiblidades[indice]):\n",
    "                for d in possiblidades[indice]:\n",
    "                    utilizados.append(d)\n",
    "                contador = contador + 1\n",
    "            matches = 0\n",
    "            indice = indice +1\n",
    "            for b in listaFosforos:\n",
    "                for c in possiblidades[indice]:\n",
    "                    if b == c:\n",
    "                        matches = matches + 1\n",
    "        utilizados = set(utilizados)\n",
    "        for e in listaFosforos:\n",
    "            if (e not in utilizados):\n",
    "                return False\n",
    "        if (contador == 2):\n",
    "            return True\n",
    "        else:\n",
    "            return False"
   ]
  },
  {
   "cell_type": "markdown",
   "metadata": {},
   "source": [
    "## Zona de Testes"
   ]
  },
  {
   "cell_type": "markdown",
   "metadata": {},
   "source": [
    "### Teste 1\n",
    "\n",
    "Construindo uma instância da classe Fosforos."
   ]
  },
  {
   "cell_type": "code",
   "execution_count": 110,
   "metadata": {},
   "outputs": [],
   "source": [
    "f1 = Fosforos()"
   ]
  },
  {
   "cell_type": "markdown",
   "metadata": {},
   "source": [
    "### Teste 2\n",
    "\n",
    "Representação do estado inicial."
   ]
  },
  {
   "cell_type": "code",
   "execution_count": 111,
   "metadata": {},
   "outputs": [
    {
     "name": "stdout",
     "output_type": "stream",
     "text": [
      "  __   __   __ \n",
      "|    |    |    |    \n",
      "  __   __   __ \n",
      "|    |    |    |    \n",
      "  __   __   __ \n",
      "|    |    |    |    \n",
      "  __   __   __ \n"
     ]
    }
   ],
   "source": [
    "f2 = f1.estado\n",
    "f1.display(f2)"
   ]
  },
  {
   "cell_type": "markdown",
   "metadata": {},
   "source": [
    "### Teste 3\n",
    "\n",
    "Verificação do teste do estado final."
   ]
  },
  {
   "cell_type": "code",
   "execution_count": 112,
   "metadata": {},
   "outputs": [
    {
     "name": "stdout",
     "output_type": "stream",
     "text": [
      "  __           \n",
      "|    |              \n",
      "  __           \n",
      "                    \n",
      "            __ \n",
      "          |    |    \n",
      "            __ \n",
      "True\n"
     ]
    }
   ],
   "source": [
    "d = Fosforos({\"h1\":[1,\"x\",\"x\"],\"v1\":[1,2,\"x\",\"x\"],\"h2\":[1,\"x\",\"x\"],\"v2\":[\"x\",\"x\",\"x\",\"x\"],\"h3\":[\"x\",\"x\",3],\"v3\":[\"x\",\"x\",3,4],\"h4\":[\"x\",\"x\",3]})\n",
    "dest = d.estado\n",
    "d1 = d.goal_test(dest)\n",
    "d.display(dest)\n",
    "print(d1)"
   ]
  },
  {
   "cell_type": "markdown",
   "metadata": {},
   "source": [
    "### Teste 4\n",
    "\n",
    "Criação de ações para alguns estados."
   ]
  },
  {
   "cell_type": "code",
   "execution_count": 113,
   "metadata": {},
   "outputs": [
    {
     "name": "stdout",
     "output_type": "stream",
     "text": [
      "['h11', 'v11', 'v12', 'h21', 'h33', 'v33', 'v34', 'h43']\n"
     ]
    }
   ],
   "source": [
    "f3 = Fosforos({\"h1\":[1,\"x\",\"x\"],\"v1\":[1,2,\"x\",\"x\"],\"h2\":[1,\"x\",\"x\"],\"v2\":[\"x\",\"x\",\"x\",\"x\"],\"h3\":[\"x\",\"x\",3],\"v3\":[\"x\",\"x\",3,4],\"h4\":[\"x\",\"x\",3]})\n",
    "f4 = f3.estado\n",
    "print(f3.actions(f4))"
   ]
  },
  {
   "cell_type": "markdown",
   "metadata": {},
   "source": [
    "### Teste 5\n",
    "\n",
    "Execução de ações a partir de um estado e criação de um estado novo."
   ]
  },
  {
   "cell_type": "code",
   "execution_count": 114,
   "metadata": {},
   "outputs": [
    {
     "name": "stdout",
     "output_type": "stream",
     "text": [
      "{'h1': [1, 2, 3], 'v1': [1, 2, 3, 4], 'h2': [1, 2, 3], 'v2': [1, 2, 3, 4], 'h3': [1, 2, 'x'], 'v3': [1, 2, 3, 4], 'h4': [1, 2, 3]}\n"
     ]
    }
   ],
   "source": [
    "f5 = f1.result(f2, \"h33\")\n",
    "print(f5)"
   ]
  },
  {
   "cell_type": "markdown",
   "metadata": {},
   "source": [
    "### Teste 6\n",
    "\n",
    "Verificação da evolução dos custos."
   ]
  },
  {
   "cell_type": "code",
   "execution_count": 115,
   "metadata": {},
   "outputs": [
    {
     "name": "stdout",
     "output_type": "stream",
     "text": [
      "Começamos: {'h1': [1, 2, 3], 'v1': [1, 2, 3, 4], 'h2': [1, 2, 3], 'v2': [1, 2, 3, 4], 'h3': [1, 2, 3], 'v3': [1, 2, 3, 4], 'h4': [1, 2, 3]} com custo: 0\n",
      "Vamos remover um fósforo na posição h33: {'h1': [1, 2, 3], 'v1': [1, 2, 3, 4], 'h2': [1, 2, 3], 'v2': [1, 2, 3, 4], 'h3': [1, 2, 'x'], 'v3': [1, 2, 3, 4], 'h4': [1, 2, 3]} com o custo = 1\n"
     ]
    }
   ],
   "source": [
    "custo = 0\n",
    "estado1 = Fosforos({\"h1\":[1,2,3],\"v1\":[1,2,3,4],\"h2\":[1,2,3],\"v2\":[1,2,3,4],\"h3\":[1,2,3],\"v3\":[1,2,3,4],\"h4\":[1,2,3]})\n",
    "estado1.estado\n",
    "print(\"Começamos:\", estado1.estado, \"com custo:\", custo)\n",
    "estado2 = Fosforos({'h1': [1, 2, 3], 'v1': [1, 2, 3, 4], 'h2': [1, 2, 3], 'v2': [1, 2, 3, 4], 'h3': [1, 2, 'x'], 'v3': [1, 2, 3, 4], 'h4': [1, 2, 3]})\n",
    "custo = estado1.path_cost(custo, estado1, \"h33\", estado2.estado)\n",
    "print(\"Vamos remover um fósforo na posição h33:\", estado2.estado, \"com o custo =\", custo)\n"
   ]
  },
  {
   "cell_type": "markdown",
   "metadata": {},
   "source": [
    "### Teste 7\n",
    "\n",
    "Verificação da inalteração dos estados após a aplicação de ações."
   ]
  },
  {
   "cell_type": "code",
   "execution_count": 116,
   "metadata": {},
   "outputs": [
    {
     "name": "stdout",
     "output_type": "stream",
     "text": [
      "{'h1': [1, 2, 3], 'v1': [1, 2, 3, 4], 'h2': [1, 2, 3], 'v2': [1, 2, 3, 4], 'h3': [1, 2, 3], 'v3': [1, 2, 3, 4], 'h4': [1, 2, 3]}\n"
     ]
    }
   ],
   "source": [
    "g1 = Fosforos ({\"h1\":[1,2,3],\"v1\":[1,2,3,4],\"h2\":[1,2,3],\"v2\":[1,2,3,4],\"h3\":[1,2,3],\"v3\":[1,2,3,4],\"h4\":[1,2,3]})\n",
    "g2 = g1.result(g1.estado,\"h11\")\n",
    "print(g1.estado)"
   ]
  },
  {
   "cell_type": "markdown",
   "metadata": {},
   "source": [
    "### Teste 8\n",
    "\n",
    "Teste com o método fornecido pelos docentes."
   ]
  },
  {
   "cell_type": "code",
   "execution_count": 117,
   "metadata": {},
   "outputs": [],
   "source": [
    "def exec(p,estado,accoes):\n",
    "    custo = 0\n",
    "    estadoInt = estado\n",
    "    for a in accoes:\n",
    "        seg = p.result(p.estado,a)\n",
    "        p.setEstado(seg)\n",
    "        custo = p.path_cost(custo,estado,a,seg)\n",
    "        estado = seg\n",
    "    p.display(estado)\n",
    "    print('Custo:',custo)\n",
    "    print('Goal?',p.goal_test(estado))\n",
    "    return (estado,custo)"
   ]
  },
  {
   "cell_type": "markdown",
   "metadata": {},
   "source": [
    "#### Exemplos do teste 8:"
   ]
  },
  {
   "cell_type": "code",
   "execution_count": 118,
   "metadata": {},
   "outputs": [
    {
     "name": "stdout",
     "output_type": "stream",
     "text": [
      "       __   __ \n",
      "     |    |    |    \n",
      "  __        __ \n",
      "|    |         |    \n",
      "  __   __   __ \n",
      "|    |    |    |    \n",
      "  __   __   __ \n",
      "Custo: 4\n",
      "Goal? False\n"
     ]
    },
    {
     "data": {
      "text/plain": [
       "({'h1': ['x', 2, 3],\n",
       "  'v1': ['x', 2, 3, 4],\n",
       "  'h2': [1, 'x', 3],\n",
       "  'v2': [1, 2, 'x', 4],\n",
       "  'h3': [1, 2, 3],\n",
       "  'v3': [1, 2, 3, 4],\n",
       "  'h4': [1, 2, 3]},\n",
       " 4)"
      ]
     },
     "execution_count": 118,
     "metadata": {},
     "output_type": "execute_result"
    }
   ],
   "source": [
    "g3 = Fosforos()\n",
    "estadoG3 = g3.estado\n",
    "acc = [\"h11\",\"h22\", \"v11\",\"v23\"]\n",
    "exec(g3, estadoG3, acc)"
   ]
  },
  {
   "cell_type": "code",
   "execution_count": 119,
   "metadata": {},
   "outputs": [
    {
     "name": "stdout",
     "output_type": "stream",
     "text": [
      "       __   __ \n",
      "     |    |         \n",
      "  __        __ \n",
      "|    |         |    \n",
      "  __   __   __ \n",
      "     |    |    |    \n",
      "  __   __   __ \n",
      "Custo: 6\n",
      "Goal? False\n"
     ]
    },
    {
     "data": {
      "text/plain": [
       "({'h1': ['x', 2, 3],\n",
       "  'v1': ['x', 2, 3, 'x'],\n",
       "  'h2': [1, 'x', 3],\n",
       "  'v2': [1, 2, 'x', 4],\n",
       "  'h3': [1, 2, 3],\n",
       "  'v3': ['x', 2, 3, 4],\n",
       "  'h4': [1, 2, 3]},\n",
       " 6)"
      ]
     },
     "execution_count": 119,
     "metadata": {},
     "output_type": "execute_result"
    }
   ],
   "source": [
    "g3 = Fosforos()\n",
    "estadoG3 = g3.estado\n",
    "acc = [\"h11\",\"h22\",\"v11\",\"v23\",\"v14\",\"v31\"]\n",
    "exec(g3, estadoG3, acc)"
   ]
  },
  {
   "cell_type": "code",
   "execution_count": 120,
   "metadata": {},
   "outputs": [
    {
     "name": "stdout",
     "output_type": "stream",
     "text": [
      "       __   __ \n",
      "     |    |    |    \n",
      "  __        __ \n",
      "|    |         |    \n",
      "  __   __      \n",
      "     |         |    \n",
      "  __   __   __ \n",
      "Custo: 7\n",
      "Goal? False\n"
     ]
    },
    {
     "data": {
      "text/plain": [
       "({'h1': ['x', 2, 3],\n",
       "  'v1': ['x', 2, 3, 4],\n",
       "  'h2': [1, 'x', 3],\n",
       "  'v2': [1, 2, 'x', 4],\n",
       "  'h3': [1, 2, 'x'],\n",
       "  'v3': ['x', 2, 'x', 4],\n",
       "  'h4': [1, 2, 3]},\n",
       " 7)"
      ]
     },
     "execution_count": 120,
     "metadata": {},
     "output_type": "execute_result"
    }
   ],
   "source": [
    "g3 = Fosforos()\n",
    "estadoG3 = g3.estado\n",
    "acc = [\"h11\",\"h22\",\"h33\",\"v11\",\"v23\",\"v31\",\"v33\"]\n",
    "exec(g3, estadoG3, acc)"
   ]
  },
  {
   "cell_type": "markdown",
   "metadata": {},
   "source": [
    "## Parte 3 (Bónus)"
   ]
  },
  {
   "cell_type": "markdown",
   "metadata": {},
   "source": [
    "No nosso projeto, a única alteração a ser feito de forma a que NxN, em que N é o número de fosforos em cada lado, funcione seria dentro do \"goal_test\" arranajar uma forma de descobrir todos os quadro possíveis dentro deste tabuleiro indefinido."
   ]
  },
  {
   "cell_type": "code",
   "execution_count": 121,
   "metadata": {},
   "outputs": [
    {
     "name": "stdout",
     "output_type": "stream",
     "text": [
      "  __   __   __   __ \n",
      "|    |    |    |    |    \n",
      "  __   __   __   __ \n",
      "|    |    |    |    |    \n",
      "  __   __   __   __ \n",
      "|    |    |    |    |    \n",
      "  __   __   __   __ \n",
      "       __   __   __ \n",
      "     |    |    |    |    \n",
      "  __        __   __ \n",
      "|    |         |    |    \n",
      "  __   __        __ \n",
      "     |         |    |    \n",
      "  __   __   __   __ \n",
      "Custo: 7\n",
      "Goal? False\n"
     ]
    },
    {
     "data": {
      "text/plain": [
       "({'h1': ['x', 2, 3, 4],\n",
       "  'v1': ['x', 2, 3, 4, 5],\n",
       "  'h2': [1, 'x', 3, 4],\n",
       "  'v2': [1, 2, 'x', 4, 5],\n",
       "  'h3': [1, 2, 'x', 4],\n",
       "  'v3': ['x', 2, 'x', 4, 5],\n",
       "  'h4': [1, 2, 3, 4]},\n",
       " 7)"
      ]
     },
     "execution_count": 121,
     "metadata": {},
     "output_type": "execute_result"
    }
   ],
   "source": [
    "teste = Fosforos({\"h1\":[1,2,3,4],\"v1\":[1,2,3,4,5],\"h2\":[1,2,3,4],\"v2\":[1,2,3,4,5],\"h3\":[1,2,3,4],\"v3\":[1,2,3,4,5],\"h4\":[1,2,3,4]})\n",
    "teste2 = teste.estado\n",
    "teste.display(teste2)\n",
    "acc = [\"h11\",\"h22\",\"h33\",\"v11\",\"v23\",\"v31\",\"v33\"]\n",
    "exec(teste, teste2, acc)"
   ]
  },
  {
   "cell_type": "markdown",
   "metadata": {},
   "source": [
    "Como se pode ver pelo exemplo acima demonstrado, o nosso código está feito de forma a ser possível modificar o tamanho do tabuleiro e das ações."
   ]
  }
 ],
 "metadata": {
  "kernelspec": {
   "display_name": "Python 3",
   "language": "python",
   "name": "python3"
  },
  "language_info": {
   "codemirror_mode": {
    "name": "ipython",
    "version": 3
   },
   "file_extension": ".py",
   "mimetype": "text/x-python",
   "name": "python",
   "nbconvert_exporter": "python",
   "pygments_lexer": "ipython3",
   "version": "3.7.3"
  }
 },
 "nbformat": 4,
 "nbformat_minor": 4
}
